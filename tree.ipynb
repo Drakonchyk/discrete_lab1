{
 "cells": [
  {
   "cell_type": "code",
   "execution_count": 27,
   "metadata": {},
   "outputs": [],
   "source": [
    "import numpy as np\n",
    "from sklearn.datasets import load_iris\n",
    "from sklearn.model_selection import cross_val_score\n",
    "from sklearn.tree import DecisionTreeClassifier\n",
    "from sklearn import tree\n",
    "from sklearn.model_selection import train_test_split\n",
    "from collections import Counter"
   ]
  },
  {
   "cell_type": "code",
   "execution_count": 28,
   "metadata": {},
   "outputs": [],
   "source": [
    "class Node:\n",
    "    \n",
    "    def __init__(self, X, y, feature = None, threshold=None, left=None, right=None, value=None):\n",
    "        self.X = X\n",
    "        self.y = y\n",
    "        self.feature = feature\n",
    "        self.threshold = threshold\n",
    "        self.left = left\n",
    "        self.right = right\n",
    "        self.value = value\n",
    "\n",
    "    def check_leaf(self):\n",
    "        return self.value is not None"
   ]
  },
  {
   "cell_type": "code",
   "execution_count": 29,
   "metadata": {},
   "outputs": [],
   "source": [
    "class MyDecisionTreeClassifier:\n",
    "    \n",
    "    def __init__(self, min_samples_split = 2, max_depth = 2, feature_number = 0):\n",
    "        self.min_samples_split = min_samples_split\n",
    "        self.max_depth = max_depth\n",
    "        self.path = None\n",
    "        self.feature_number = feature_number\n",
    "    \n",
    "    def gini(self, groups, classes):\n",
    "        '''\n",
    "        A Gini score gives an idea of how good a split is by how mixed the\n",
    "        classes are in the two groups created by the split.\n",
    "        \n",
    "        A perfect separation results in a Gini score of 0,\n",
    "        whereas the worst case split that results in 50/50\n",
    "        classes in each group result in a Gini score of 0.5\n",
    "        (for a 2 class problem).\n",
    "        '''\n",
    "        \n",
    "        gini_score = 1\n",
    "        for i in groups:\n",
    "            gini_score -= (i/classes)**2\n",
    "        return gini_score\n",
    "    \n",
    "    def split_data(self, X, y) -> tuple[int, int]:\n",
    "        _, num_features = X.shape\n",
    "        general_gini = 1\n",
    "        split_idx, split_thresh = None, None\n",
    "        feat_idxs = np.random.choice(num_features, self.feature_number, replace=False)\n",
    "        for feat_idx in feat_idxs:\n",
    "            X_column = X[:, feat_idx]\n",
    "            thresholds = np.unique(X_column)\n",
    "            for threshold in thresholds:\n",
    "                left_child = np.argwhere(X_column <= threshold).flatten()\n",
    "                right_child = np.argwhere(X_column > threshold).flatten()\n",
    "                if len(left_child) == 0 or len(right_child) == 0:\n",
    "                    continue\n",
    "                left_gini = self.gini(np.bincount(y[left_child]), len(left_child))\n",
    "                right_gini = self.gini(np.bincount(y[right_child]), len(right_child))\n",
    "                current = (len(right_child)/len(y))*right_gini + (len(left_child)/len(y))*left_gini\n",
    "                if current < general_gini:\n",
    "                    general_gini = current\n",
    "                    split_idx = feat_idx\n",
    "                    split_thresh = threshold\n",
    "\n",
    "        return split_idx, split_thresh\n",
    "    \n",
    "    def build_tree(self, X, y, depth = 0):\n",
    "        num_samples, _ = X.shape\n",
    "        num_labels = len(np.unique(y))\n",
    "\n",
    "        if (depth >= self.max_depth\n",
    "            or num_labels == 1\n",
    "            or num_samples < self.min_samples_split):\n",
    "            leaf_value = self._most_common_label(y)\n",
    "            return Node(X, y, value=leaf_value)\n",
    "\n",
    "        best_feat, best_thresh = self.split_data(X, y)\n",
    "        left_idxs = np.argwhere(X[:, best_feat] <= best_thresh).flatten()\n",
    "        right_idxs = np.argwhere(X[:, best_feat] > best_thresh).flatten()\n",
    "        left = self.build_tree(X[left_idxs, :], y[left_idxs], depth + 1)\n",
    "        right = self.build_tree(X[right_idxs, :], y[right_idxs], depth + 1)\n",
    "        return Node(X, y, best_feat, best_thresh, left, right)\n",
    "\n",
    "    def _most_common_label(self, y):\n",
    "        counter = Counter(y)\n",
    "        return counter.most_common(1)[0][0]\n",
    "    \n",
    "    def fit(self, X, y):\n",
    "        if not self.feature_number:\n",
    "            self.feature_number = X.shape[1]\n",
    "        else:\n",
    "            self.feature_number = min(X.shape[1], self.feature_number)\n",
    "        self.path = self.build_tree(X, y)\n",
    "    \n",
    "    def predict(self, X_test):\n",
    "        return np.array([self.traverse_tree(x, self.path) for x in X_test])\n",
    "    \n",
    "    def traverse_tree(self, x, node):\n",
    "        if node.check_leaf():\n",
    "            return node.value\n",
    "        if x[node.feature] <= node.threshold:\n",
    "            return self.traverse_tree(x, node.left)\n",
    "        return self.traverse_tree(x, node.right)\n",
    "\n",
    "    def evaluate(self, X_test, y_test):\n",
    "        return np.sum(X_test == y_test) / len(y_test)\n",
    "    "
   ]
  },
  {
   "cell_type": "code",
   "execution_count": 34,
   "metadata": {},
   "outputs": [
    {
     "name": "stdout",
     "output_type": "stream",
     "text": [
      "0.8809523809523809\n"
     ]
    }
   ],
   "source": [
    "iris = load_iris()\n",
    "clf = MyDecisionTreeClassifier()\n",
    "X, y = iris.data, iris.target\n",
    "new_X, X_test, new_y, y_test = train_test_split(X, y, test_size=0.275)\n",
    "clf.fit(new_X, new_y)\n",
    "print(clf.evaluate(y_test, clf.predict(X_test)))"
   ]
  }
 ],
 "metadata": {
  "kernelspec": {
   "display_name": "Python 3",
   "language": "python",
   "name": "python3"
  },
  "language_info": {
   "codemirror_mode": {
    "name": "ipython",
    "version": 3
   },
   "file_extension": ".py",
   "mimetype": "text/x-python",
   "name": "python",
   "nbconvert_exporter": "python",
   "pygments_lexer": "ipython3",
   "version": "3.10.7"
  },
  "orig_nbformat": 4,
  "vscode": {
   "interpreter": {
    "hash": "229cdfb8eedfa4964725b7eb0da8d7a63b25d97a6ab808f09bd6b506844c0629"
   }
  }
 },
 "nbformat": 4,
 "nbformat_minor": 2
}

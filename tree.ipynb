{
 "cells": [
  {
   "cell_type": "code",
   "execution_count": null,
   "metadata": {},
   "outputs": [],
   "source": [
    "import pandas as pd\n",
    "import numpy as np\n",
    "import matplotlib.pyplot as plt\n",
    "from sklearn.datasets import load_iris\n",
    "from sklearn.model_selection import cross_val_score\n",
    "from sklearn.tree import DecisionTreeClassifier\n",
    "from sklearn import tree\n",
    "from sklearn.model_selection import train_test_split"
   ]
  },
  {
   "cell_type": "code",
   "execution_count": null,
   "metadata": {},
   "outputs": [],
   "source": [
    "class Node:\n",
    "    \n",
    "    def __init__(self, X, y, gini, feature = None, threshold=None, left=None, right=None, value=None):\n",
    "        self.X = X\n",
    "        self.y = y\n",
    "        self.gini = gini\n",
    "        self.feature = feature\n",
    "        self.threshold = threshold\n",
    "        self.left = left\n",
    "        self.right = right\n",
    "        self.value = value\n",
    "\n",
    "    def check_leaf(self):\n",
    "        return self.value is not None"
   ]
  },
  {
   "cell_type": "code",
   "execution_count": null,
   "metadata": {},
   "outputs": [],
   "source": [
    "class MyDecisionTreeClassifier:\n",
    "    \n",
    "    def __init__(self, min_samples_split = 2, max_depth = 2, feature_number = 0):\n",
    "        self.min_samples_split = min_samples_split\n",
    "        self.max_depth = max_depth\n",
    "        self.path = None\n",
    "        self.feature_number = feature_number\n",
    "    \n",
    "    def gini(self, groups, classes):\n",
    "        '''\n",
    "        A Gini score gives an idea of how good a split is by how mixed the\n",
    "        classes are in the two groups created by the split.\n",
    "        \n",
    "        A perfect separation results in a Gini score of 0,\n",
    "        whereas the worst case split that results in 50/50\n",
    "        classes in each group result in a Gini score of 0.5\n",
    "        (for a 2 class problem).\n",
    "        '''\n",
    "        \n",
    "        pass\n",
    "    \n",
    "    def split_data(self, X, y) -> tuple[int, int]:\n",
    "        \n",
    "        # test all the possible splits in O(N*F) where N in number of samples\n",
    "        # and F is number of features\n",
    "\n",
    "        # return index and threshold value\n",
    "        \n",
    "        pass\n",
    "    \n",
    "    def build_tree(self, X, y, depth = 0):\n",
    "        \n",
    "        # create a root node\n",
    "        \n",
    "        # recursively split until max depth is not exeeced\n",
    "        \n",
    "        pass\n",
    "    \n",
    "    def fit(self, X, y):\n",
    "        if not self.feature_number:\n",
    "            self.feature_number = X.shape[1]\n",
    "        else:\n",
    "            self.feature_number = min(X.shape[1], self.feature_number)\n",
    "        self.path = self.build_tree(X, y)\n",
    "    \n",
    "    def predict(self, X_test):\n",
    "        \n",
    "        # traverse the tree while there is a child\n",
    "        # and return the predicted class for it, \n",
    "        # note that X_test can be a single sample or a batch\n",
    "        \n",
    "        return np.array([self.traverse_tree(x, self.path) for x in X_test])\n",
    "    \n",
    "    def traverse_tree(self, x, node):\n",
    "        if node.check_leaf():\n",
    "            return node.value\n",
    "        if x[node.feature] <= node.threshold:\n",
    "            return self.traverse_tree(x, node.left)\n",
    "        return self.traverse_tree(x, node.right)\n",
    "\n",
    "    def evaluate(self, X_test, y_test):\n",
    "        # return accuracy\n",
    "        classifier = DecisionTreeClassifier(min_samples_split=3, max_depth=3)\n",
    "        y_pred = classifier.predict(X_test)\n",
    "        return self.accuracy_scr(y_test, y_pred)\n",
    "    \n",
    "    def accuracy_scr(self, y_test, y_pred):\n",
    "        accuracy = np.sum(y_test == y_pred) / len(y_test)\n",
    "        return accuracy"
   ]
  }
 ],
 "metadata": {
  "kernelspec": {
   "display_name": "Python 3",
   "language": "python",
   "name": "python3"
  },
  "language_info": {
   "name": "python",
   "version": "3.10.7"
  },
  "orig_nbformat": 4,
  "vscode": {
   "interpreter": {
    "hash": "229cdfb8eedfa4964725b7eb0da8d7a63b25d97a6ab808f09bd6b506844c0629"
   }
  }
 },
 "nbformat": 4,
 "nbformat_minor": 2
}
